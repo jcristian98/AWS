{
 "cells": [
  {
   "cell_type": "code",
   "execution_count": 84,
   "id": "512685de-62f6-4252-af42-9f88b626dff8",
   "metadata": {},
   "outputs": [],
   "source": [
    "import sys\n",
    "from datetime import datetime\n",
    "from pyspark.sql import SparkSession\n",
    "from pyspark.ml import Pipeline\n",
    "from pyspark.ml.clustering import KMeans\n",
    "from pyspark.ml.evaluation import ClusteringEvaluator\n",
    "from pyspark.ml.feature import StringIndexer, OneHotEncoder, VectorAssembler, StandardScaler\n",
    "from pyspark.sql.functions import *"
   ]
  },
  {
   "cell_type": "code",
   "execution_count": 85,
   "id": "3d18493b-b9f9-4ade-8a5d-8fba56f02e17",
   "metadata": {},
   "outputs": [],
   "source": [
    " spark = SparkSession\\\n",
    " .builder\\\n",
    " .appName(\"SparkETL\")\\\n",
    " .getOrCreate()"
   ]
  },
  {
   "cell_type": "code",
   "execution_count": 86,
   "id": "d2e36c31-c009-4b3f-8ddc-7d4818dbb15e",
   "metadata": {},
   "outputs": [],
   "source": [
    "df = spark.read.option('delimiter',';').option('inferSchema','true').option('header','true').csv('s3://s3-udea.ds.s3.amazonaws.com/input/Saber11.csv')"
   ]
  },
  {
   "cell_type": "code",
   "execution_count": 87,
   "id": "498b6f6b-2aa8-432e-b098-d45aefa30ec5",
   "metadata": {},
   "outputs": [
    {
     "name": "stdout",
     "output_type": "stream",
     "text": [
      "+--------+-----------+--------+---+---------+--------+-------+--------+------------+-------+-------+------+------------------+\n",
      "|lenguaje|matematicas|sociales| Id|filosofia|biologia|quimica|  fisica|nivel_ingles| sisben|estrato|genero|puntaje_saber11   |\n",
      "+--------+-----------+--------+---+---------+--------+-------+--------+------------+-------+-------+------+------------------+\n",
      "|    alto|       alto|    alto|  1|    medio|   medio|  medio|superior|          A1|      2|      3|Hombre|              bajo|\n",
      "|   medio|       bajo|   medio|  2|    medio|   medio|   alto|    alto|          A1|      1|      1|Hombre|              bajo|\n",
      "|   medio|      medio|   medio|  3|     alto|   medio|  medio|   medio|          A1|      5|      3| Mujer|              bajo|\n",
      "|   medio|      medio|   medio|  4|    medio|   medio|   alto|    alto|          A2|      5|      4|Hombre|              bajo|\n",
      "|   medio|      medio|   medio|  5|    medio|   medio|  medio|    alto|          A1|      1|      1|Hombre|              bajo|\n",
      "|    alto|       alto|    alto|  6|     alto|   medio|   alto|    alto|          A-|      1|      1|Hombre|              bajo|\n",
      "|   medio|      medio|   medio|  7|    medio|   medio|  medio|    alto|          A1|      1|      2|Hombre|              bajo|\n",
      "|   medio|      medio|   medio|  8|    medio|   medio|  medio|   medio|          A-|      3|      2|Hombre|              bajo|\n",
      "|   medio|      medio|    alto|  9|    medio|   medio|   alto|    alto|          A1|      2|      2| Mujer|              bajo|\n",
      "|   medio|       alto|   medio| 10|    medio|   medio|  medio|   medio|          A1|     -9|      2| Mujer|              bajo|\n",
      "|   medio|      medio|   medio| 11|    medio|    alto|  medio|   medio|          A-|      5|      3|Hombre|              bajo|\n",
      "|   medio|      medio|   medio| 12|    medio|   medio|  medio|   medio|          A1|      1|      1| Mujer|              bajo|\n",
      "|   medio|       alto|    alto| 13|     alto|    alto|  medio|   medio|          A1|      2|      3|Hombre|              bajo|\n",
      "|    alto|      medio|    alto| 14|     alto|    alto|   alto|    alto|          A2|      2|      2| Mujer|              bajo|\n",
      "|    alto|      medio|    alto| 15|    medio|   medio|  medio|   medio|          A-|      2|      1|Hombre|              bajo|\n",
      "|    alto|       alto|    alto| 16|    medio|    alto|   alto|    alto|          A1|      5|      6| Mujer|              bajo|\n",
      "|    alto|       alto|    alto| 17|     alto|    alto|   alto|    alto|          A1|      1|      1| Mujer|              bajo|\n",
      "|   medio|      medio|    alto| 18|    medio|   medio|  medio|   medio|          A2|      3|      3| Mujer|              bajo|\n",
      "|   medio|      medio|   medio| 19|    medio|    alto|   alto|    alto|          A-|      1|      1|Hombre|              bajo|\n",
      "|    alto|       alto|   medio| 20|     alto|   medio|  medio|   medio|          A1|      5|      3|Hombre|              bajo|\n",
      "+--------+-----------+--------+---+---------+--------+-------+--------+------------+-------+-------+------+------------------+\n",
      "only showing top 20 rows\n",
      "\n"
     ]
    }
   ],
   "source": [
    "df.show()"
   ]
  },
  {
   "cell_type": "code",
   "execution_count": 88,
   "id": "2c1ce247-5852-4539-aee9-49dd7acc1f3e",
   "metadata": {},
   "outputs": [
    {
     "data": {
      "text/plain": [
       "['lenguaje',\n",
       " 'matematicas',\n",
       " 'sociales',\n",
       " 'Id',\n",
       " 'filosofia',\n",
       " 'biologia',\n",
       " 'quimica',\n",
       " 'fisica',\n",
       " 'nivel_ingles',\n",
       " ' sisben',\n",
       " 'estrato',\n",
       " 'genero',\n",
       " 'puntaje_saber11   ']"
      ]
     },
     "execution_count": 88,
     "metadata": {},
     "output_type": "execute_result"
    }
   ],
   "source": [
    "df.columns"
   ]
  },
  {
   "cell_type": "code",
   "execution_count": 89,
   "id": "5eef230f-9f57-4a3b-9078-c0a3cde7cba2",
   "metadata": {},
   "outputs": [],
   "source": [
    "df = df.withColumnRenamed(' sisben', 'sisben')\n",
    "df = df.withColumnRenamed('puntaje_saber11   ', 'puntaje_saber11')"
   ]
  },
  {
   "cell_type": "code",
   "execution_count": 90,
   "id": "823c72a3-97a7-4221-87bb-1965868c94a4",
   "metadata": {},
   "outputs": [
    {
     "name": "stdout",
     "output_type": "stream",
     "text": [
      "root\n",
      " |-- lenguaje: string (nullable = true)\n",
      " |-- matematicas: string (nullable = true)\n",
      " |-- sociales: string (nullable = true)\n",
      " |-- Id: integer (nullable = true)\n",
      " |-- filosofia: string (nullable = true)\n",
      " |-- biologia: string (nullable = true)\n",
      " |-- quimica: string (nullable = true)\n",
      " |-- fisica: string (nullable = true)\n",
      " |-- nivel_ingles: string (nullable = true)\n",
      " |-- sisben: integer (nullable = true)\n",
      " |-- estrato: integer (nullable = true)\n",
      " |-- genero: string (nullable = true)\n",
      " |-- puntaje_saber11: string (nullable = true)\n",
      "\n",
      "+--------+-----------+--------+---+---------+--------+-------+--------+------------+------+-------+------+---------------+\n",
      "|lenguaje|matematicas|sociales|Id |filosofia|biologia|quimica|fisica  |nivel_ingles|sisben|estrato|genero|puntaje_saber11|\n",
      "+--------+-----------+--------+---+---------+--------+-------+--------+------------+------+-------+------+---------------+\n",
      "|alto    |alto       |alto    |1  |medio    |medio   |medio  |superior|A1          |2     |3      |Hombre|bajo           |\n",
      "|medio   |bajo       |medio   |2  |medio    |medio   |alto   |alto    |A1          |1     |1      |Hombre|bajo           |\n",
      "|medio   |medio      |medio   |3  |alto     |medio   |medio  |medio   |A1          |5     |3      |Mujer |bajo           |\n",
      "|medio   |medio      |medio   |4  |medio    |medio   |alto   |alto    |A2          |5     |4      |Hombre|bajo           |\n",
      "|medio   |medio      |medio   |5  |medio    |medio   |medio  |alto    |A1          |1     |1      |Hombre|bajo           |\n",
      "+--------+-----------+--------+---+---------+--------+-------+--------+------------+------+-------+------+---------------+\n",
      "only showing top 5 rows\n",
      "\n"
     ]
    }
   ],
   "source": [
    "df.printSchema()\n",
    "df.show(5, truncate=False)"
   ]
  },
  {
   "cell_type": "code",
   "execution_count": 91,
   "id": "3a5f6839-6dbc-4735-a97d-3d103d8add68",
   "metadata": {},
   "outputs": [
    {
     "name": "stdout",
     "output_type": "stream",
     "text": [
      "+--------+-----------+--------+---+---------+--------+-------+------+------------+------+-------+------+---------------+\n",
      "|lenguaje|matematicas|sociales| Id|filosofia|biologia|quimica|fisica|nivel_ingles|sisben|estrato|genero|puntaje_saber11|\n",
      "+--------+-----------+--------+---+---------+--------+-------+------+------------+------+-------+------+---------------+\n",
      "|       0|          0|       0|  0|        0|       0|      0|     0|           0|     0|      0|     0|              0|\n",
      "+--------+-----------+--------+---+---------+--------+-------+------+------------+------+-------+------+---------------+\n",
      "\n"
     ]
    }
   ],
   "source": [
    "columns = df.columns\n",
    "null_counts = df.select([sum(col(c).isNull().cast(\"int\")).alias(c) for c in columns])\n",
    "null_counts.show()"
   ]
  },
  {
   "cell_type": "code",
   "execution_count": 92,
   "id": "e09693a6-b3da-416e-a478-9a8da50787b4",
   "metadata": {},
   "outputs": [],
   "source": [
    "categorical_columns = ['lenguaje', 'matematicas', 'sociales', 'filosofia', 'biologia', 'quimica', 'fisica', 'nivel_ingles', 'genero', 'puntaje_saber11']"
   ]
  },
  {
   "cell_type": "code",
   "execution_count": 93,
   "id": "7dbf2e1d-79de-47a3-b48f-2cffbc4433b2",
   "metadata": {},
   "outputs": [],
   "source": [
    "indexers = [StringIndexer(inputCol=col, outputCol=col + \"_index\").fit(df) for col in categorical_columns]\n",
    "encoders = [OneHotEncoder(inputCols=[col + \"_index\"], outputCols=[col + \"_vec\"]) for col in categorical_columns]"
   ]
  },
  {
   "cell_type": "code",
   "execution_count": 94,
   "id": "758e50fa-2aa1-442f-b70c-b698bbdb850c",
   "metadata": {},
   "outputs": [],
   "source": [
    "pipeline = Pipeline(stages=indexers + encoders)\n",
    "df_encoded = pipeline.fit(df).transform(df)"
   ]
  },
  {
   "cell_type": "code",
   "execution_count": 95,
   "id": "5396c2c0-9a69-41a4-9a32-077a1d6a8fee",
   "metadata": {},
   "outputs": [],
   "source": [
    "numerical_cols = ['sisben', 'estrato']\n",
    "encoded_columns = [c + '_vec' for c in categorical_columns] + numerical_cols\n",
    "df_encoded = df_encoded.select(*encoded_columns)"
   ]
  },
  {
   "cell_type": "code",
   "execution_count": 96,
   "id": "527d820b-79d4-4ff6-824a-39d08d630026",
   "metadata": {},
   "outputs": [],
   "source": [
    "assembler = VectorAssembler(inputCols=encoded_columns, outputCol='features')\n",
    "df_features = assembler.transform(df_encoded)"
   ]
  },
  {
   "cell_type": "code",
   "execution_count": 97,
   "id": "38a4b1ba-d6ee-4011-a782-19b209f38e16",
   "metadata": {},
   "outputs": [],
   "source": [
    "scaler = StandardScaler(inputCol='features', outputCol='scaled_features')\n",
    "scaler_model = scaler.fit(df_features)\n",
    "df_scaled = scaler_model.transform(df_features)"
   ]
  },
  {
   "cell_type": "code",
   "execution_count": 98,
   "id": "19969ec4-6784-4aa1-bd66-12a6531f066e",
   "metadata": {},
   "outputs": [],
   "source": [
    "def run_kmeans(n_clusters):\n",
    "    kmeans = KMeans(k=n_clusters, seed=1, featuresCol='scaled_features', predictionCol='cluster')\n",
    "    model = kmeans.fit(df_scaled)\n",
    "    predictions = model.transform(df_scaled)\n",
    "    evaluator = ClusteringEvaluator(predictionCol='cluster', featuresCol='scaled_features')\n",
    "    silhouette = evaluator.evaluate(predictions)\n",
    "    return model, silhouette"
   ]
  },
  {
   "cell_type": "code",
   "execution_count": 99,
   "id": "35e7569c-548d-408a-b9a0-91e42119e72c",
   "metadata": {},
   "outputs": [
    {
     "name": "stdout",
     "output_type": "stream",
     "text": [
      "{2: 0.2578251964042838, 3: 0.27207218120052673, 4: 0.12042505490725162, 5: 0.14726568032901052, 6: 0.1592453592368426, 7: 0.14782259961560076, 8: 0.20527784567313648, 9: 0.16944788938739855, 10: 0.18512189694096792}\n"
     ]
    }
   ],
   "source": [
    "cluster_silhouette = {}\n",
    "for n_clusters in range(2, 11):  # De 2 a 10 clusters\n",
    "    model, silhouette = run_kmeans(n_clusters)\n",
    "    cluster_silhouette[n_clusters] = silhouette\n",
    "\n",
    "print(cluster_silhouette)"
   ]
  },
  {
   "cell_type": "code",
   "execution_count": 100,
   "id": "396a147c-f063-4f21-b046-d55e2501253f",
   "metadata": {},
   "outputs": [
    {
     "data": {
      "image/png": "[encoded data removed]",
      "text/plain": [
       "<Figure size 1000x600 with 1 Axes>"
      ]
     },
     "metadata": {},
     "output_type": "display_data"
    }
   ],
   "source": [
    "import matplotlib.pyplot as plt\n",
    "\n",
    "clusters = list(cluster_silhouette.keys())\n",
    "scores = list(cluster_silhouette.values())\n",
    "\n",
    "plt.figure(figsize=(10, 6))\n",
    "plt.plot(clusters, scores, marker='o')\n",
    "plt.xlabel('Numbero de Clusters')\n",
    "plt.ylabel('Silhouette Score')\n",
    "plt.title('Silhouette Scores para diferentes numeros de Clusters')\n",
    "plt.grid(True)\n",
    "plt.show()"
   ]
  },
  {
   "cell_type": "code",
   "execution_count": 101,
   "id": "720a050b-00d5-4258-9f2e-eff6138b4f40",
   "metadata": {},
   "outputs": [
    {
     "name": "stdout",
     "output_type": "stream",
     "text": [
      "0.27207218120052673\n"
     ]
    }
   ],
   "source": [
    "chosen_clusters = 3  # Al parecer 3 es el numero optimo de clusters\n",
    "final_model, final_silhouette = run_kmeans(chosen_clusters)\n",
    "print(final_silhouette)"
   ]
  },
  {
   "cell_type": "markdown",
   "id": "9e48e641-a815-4906-ae27-2d53faa2991b",
   "metadata": {},
   "source": [
    "# Para la elección del número de clústeres, utilizamos la puntuación de Silhouette, que mide qué tan bien está un punto dentro de su clúster en comparación con otros clústeres. Gráficamente, la puntuación es mayor para el número 3, lo que sugiere que 3 clústeres son adecuados para los datos."
   ]
  },
  {
   "cell_type": "code",
   "execution_count": 102,
   "id": "2fba0847-6064-4303-b8bd-96e685ee4a6b",
   "metadata": {},
   "outputs": [],
   "source": [
    "encoded_columns = [c + '_vec' for c in categorical_columns] + numerical_cols"
   ]
  },
  {
   "cell_type": "code",
   "execution_count": 110,
   "id": "9cbf55aa-0314-4163-89f0-ad4432986b0c",
   "metadata": {},
   "outputs": [],
   "source": [
    "centroid_1 = dict(zip(encoded_columns, centroids[0]))\n",
    "centroid_2 = dict(zip(encoded_columns, centroids[1]))\n",
    "centroid_3 = dict(zip(encoded_columns, centroids[2]))"
   ]
  },
  {
   "cell_type": "code",
   "execution_count": 112,
   "id": "13efa826-4182-4176-a7e2-ab5ef33f2f98",
   "metadata": {},
   "outputs": [
    {
     "name": "stdout",
     "output_type": "stream",
     "text": [
      "Centroide para el Cluster 1:\n",
      "lenguaje_vec: 1.794089662620157\n",
      "matematicas_vec: 0.27950739781363554\n",
      "sociales_vec: 0.0\n",
      "filosofia_vec: 1.6395695060789903\n",
      "biologia_vec: 0.24463158110223687\n",
      "quimica_vec: 0.3602463800754305\n",
      "fisica_vec: 1.6714256117425432\n",
      "nivel_ingles_vec: 0.32627069799290165\n",
      "genero_vec: 0.09519289050244935\n",
      "puntaje_saber11_vec: 0.7754877304134256\n",
      "sisben: 1.2214952687278395\n",
      "estrato: 0.030156156889136965\n"
     ]
    }
   ],
   "source": [
    "print(\"Centroide para el Cluster 1:\")\n",
    "for col, val in centroid_1.items():\n",
    "    print(f\"{col}: {val}\")"
   ]
  },
  {
   "cell_type": "markdown",
   "id": "d54bb4b4-2724-4ae4-b9f8-a36a9327a90c",
   "metadata": {},
   "source": [
    "# Este clúster agrupa a estudiantes con un rendimiento alto en lenguaje, filosofía, y física. El nivel socioeconómico (estrato) de estos estudiantes parece ser bajo, pero tienen un nivel de sisben moderado, lo que puede indicar que reciben algún tipo de apoyo social."
   ]
  },
  {
   "cell_type": "code",
   "execution_count": 105,
   "id": "bb8b560c-3a73-43f0-b842-ef8d935a096e",
   "metadata": {},
   "outputs": [
    {
     "name": "stdout",
     "output_type": "stream",
     "text": [
      "Centroide para el Cluster 2:\n",
      "lenguaje_vec: 0.015577948989951813\n",
      "matematicas_vec: 0.0\n",
      "sociales_vec: 8.849107069922567\n",
      "filosofia_vec: 1.5083000179257642\n",
      "biologia_vec: 0.1399474546256708\n",
      "quimica_vec: 0.9331193829773385\n",
      "fisica_vec: 1.7079423479507059\n",
      "nivel_ingles_vec: 0.12113626197656652\n",
      "genero_vec: 1.3150456452368453\n",
      "puntaje_saber11_vec: 0.5000411786583724\n",
      "sisben: 1.4236332106517964\n",
      "estrato: 0.0\n"
     ]
    }
   ],
   "source": [
    "print(\"Centroide para el Cluster 2:\")\n",
    "for col, val in centroid_2.items():\n",
    "    print(f\"{col}: {val}\")"
   ]
  },
  {
   "cell_type": "markdown",
   "id": "37b96778-37b8-499f-80ac-c6c6cc7e70ab",
   "metadata": {},
   "source": [
    "# Este clúster parece agrupar a estudiantes con un rendimiento excepcional en sociales. Estos estudiantes también muestran un buen rendimiento en filosofía y física. El nivel socioeconómico es muy bajo, pero tienen un sisben moderado."
   ]
  },
  {
   "cell_type": "code",
   "execution_count": 109,
   "id": "de67e51e-eac5-4bbf-b45d-af5087c0a80d",
   "metadata": {},
   "outputs": [
    {
     "name": "stdout",
     "output_type": "stream",
     "text": [
      "Centroide para el Cluster 3:\n",
      "lenguaje_vec: 0.7732159244206773\n",
      "matematicas_vec: 1.2862930028073174\n",
      "sociales_vec: 0.0\n",
      "filosofia_vec: 0.6251631625176731\n",
      "biologia_vec: 1.403299328260333\n",
      "quimica_vec: 0.014736796362203593\n",
      "fisica_vec: 0.43009438640055253\n",
      "nivel_ingles_vec: 1.5672132324370165\n",
      "genero_vec: 0.003090561754603132\n",
      "puntaje_saber11_vec: 1.5666144768801475\n",
      "sisben: 0.34968582310395635\n",
      "estrato: 0.3172151465132124\n"
     ]
    }
   ],
   "source": [
    "print(\"Centroide para el Cluster 3:\")\n",
    "for col, val in centroid_3.items():\n",
    "    print(f\"{col}: {val}\")"
   ]
  },
  {
   "cell_type": "markdown",
   "id": "c3e897bb-07ef-43af-9192-8a8885f0f336",
   "metadata": {},
   "source": [
    "# Este clúster agrupa a estudiantes con un buen rendimiento en matemáticas, biología, y nivel de inglés. Estos estudiantes también tienen un puntaje_saber11 alto, lo que indica un rendimiento académico general bueno. Por otro lado, tanto el sisben como el estrato son bajos, lo que sugiere que estos estudiantes provienen de un entorno socioeconómico menos favorable."
   ]
  }
 ],
 "metadata": {
  "kernelspec": {
   "display_name": "Python 3 (ipykernel)",
   "language": "python",
   "name": "python3"
  },
  "language_info": {
   "codemirror_mode": {
    "name": "ipython",
    "version": 3
   },
   "file_extension": ".py",
   "mimetype": "text/x-python",
   "name": "python",
   "nbconvert_exporter": "python",
   "pygments_lexer": "ipython3",
   "version": "3.11.7"
  }
 },
 "nbformat": 4,
 "nbformat_minor": 5
}
